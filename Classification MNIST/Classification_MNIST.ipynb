{
  "nbformat": 4,
  "nbformat_minor": 0,
  "metadata": {
    "colab": {
      "provenance": [],
      "gpuType": "T4",
      "authorship_tag": "ABX9TyMpW3MH5xgOe29hnVUA3AkG",
      "include_colab_link": true
    },
    "kernelspec": {
      "name": "python3",
      "display_name": "Python 3"
    },
    "language_info": {
      "name": "python"
    },
    "accelerator": "GPU",
    "gpuClass": "standard"
  },
  "cells": [
    {
      "cell_type": "markdown",
      "metadata": {
        "id": "view-in-github",
        "colab_type": "text"
      },
      "source": [
        "<a href=\"https://colab.research.google.com/github/JigarT10/ANN/blob/main/Classification%20MNIST/Classification_MNIST.ipynb\" target=\"_parent\"><img src=\"https://colab.research.google.com/assets/colab-badge.svg\" alt=\"Open In Colab\"/></a>"
      ]
    },
    {
      "cell_type": "code",
      "execution_count": 10,
      "metadata": {
        "id": "DnQRaYa6tivN"
      },
      "outputs": [],
      "source": [
        "import tensorflow\n",
        "from tensorflow import keras\n",
        "from tensorflow.keras import Sequential\n",
        "from tensorflow.keras.layers import Dense, Flatten, Dropout\n",
        "import matplotlib.pyplot as plt"
      ]
    },
    {
      "cell_type": "code",
      "source": [
        "(X_train,y_train),(X_test,y_test) = keras.datasets.mnist.load_data()"
      ],
      "metadata": {
        "id": "YrWZT94iuuJP",
        "colab": {
          "base_uri": "https://localhost:8080/"
        },
        "outputId": "7d97413c-0013-430b-f1f0-6e80e68bfb3f"
      },
      "execution_count": 2,
      "outputs": [
        {
          "output_type": "stream",
          "name": "stdout",
          "text": [
            "Downloading data from https://storage.googleapis.com/tensorflow/tf-keras-datasets/mnist.npz\n",
            "11490434/11490434 [==============================] - 1s 0us/step\n"
          ]
        }
      ]
    },
    {
      "cell_type": "code",
      "source": [
        "X_train.shape"
      ],
      "metadata": {
        "colab": {
          "base_uri": "https://localhost:8080/"
        },
        "id": "ZPikkpePuuL9",
        "outputId": "a1c075b1-65df-42df-9c2e-05d3f67ef162"
      },
      "execution_count": 3,
      "outputs": [
        {
          "output_type": "execute_result",
          "data": {
            "text/plain": [
              "(60000, 28, 28)"
            ]
          },
          "metadata": {},
          "execution_count": 3
        }
      ]
    },
    {
      "cell_type": "code",
      "source": [
        "y_train.shape"
      ],
      "metadata": {
        "colab": {
          "base_uri": "https://localhost:8080/"
        },
        "id": "uhhkDJxtuuOx",
        "outputId": "bf71eab7-9aca-459b-d6dd-f5ee5821e8a5"
      },
      "execution_count": 4,
      "outputs": [
        {
          "output_type": "execute_result",
          "data": {
            "text/plain": [
              "(60000,)"
            ]
          },
          "metadata": {},
          "execution_count": 4
        }
      ]
    },
    {
      "cell_type": "code",
      "source": [
        "set(y_train)"
      ],
      "metadata": {
        "colab": {
          "base_uri": "https://localhost:8080/"
        },
        "id": "vH3SrVcJuuRa",
        "outputId": "fd16f8d5-662d-48bd-baf4-23f8019f20b4"
      },
      "execution_count": 5,
      "outputs": [
        {
          "output_type": "execute_result",
          "data": {
            "text/plain": [
              "{0, 1, 2, 3, 4, 5, 6, 7, 8, 9}"
            ]
          },
          "metadata": {},
          "execution_count": 5
        }
      ]
    },
    {
      "cell_type": "code",
      "source": [
        "X_test.shape"
      ],
      "metadata": {
        "colab": {
          "base_uri": "https://localhost:8080/"
        },
        "id": "HrYQT8t_vap5",
        "outputId": "795450e2-3854-4d81-ce6c-a9156e4822dc"
      },
      "execution_count": 6,
      "outputs": [
        {
          "output_type": "execute_result",
          "data": {
            "text/plain": [
              "(10000, 28, 28)"
            ]
          },
          "metadata": {},
          "execution_count": 6
        }
      ]
    },
    {
      "cell_type": "code",
      "source": [
        "plt.imshow(X_train[0])"
      ],
      "metadata": {
        "colab": {
          "base_uri": "https://localhost:8080/",
          "height": 447
        },
        "id": "wIwmFiDouuUc",
        "outputId": "8770e158-a816-46fa-8ef5-d63d1f68564d"
      },
      "execution_count": 11,
      "outputs": [
        {
          "output_type": "execute_result",
          "data": {
            "text/plain": [
              "<matplotlib.image.AxesImage at 0x7fc8297b7490>"
            ]
          },
          "metadata": {},
          "execution_count": 11
        },
        {
          "output_type": "display_data",
          "data": {
            "text/plain": [
              "<Figure size 640x480 with 1 Axes>"
            ],
            "image/png": "[encoded data removed]"
          },
          "metadata": {}
        }
      ]
    },
    {
      "cell_type": "code",
      "source": [
        "X_train = X_train/255\n",
        "X_test = X_test/255"
      ],
      "metadata": {
        "id": "vWdiIYJduuXY"
      },
      "execution_count": 12,
      "outputs": []
    },
    {
      "cell_type": "code",
      "source": [
        "model = Sequential()\n",
        "\n",
        "model.add(Flatten(input_shape=(28,28)))\n",
        "\n",
        "model.add(Dense(128,activation='relu'))\n",
        "model.add(Dropout(0.3))\n",
        "model.add(Dense(64,activation='relu'))\n",
        "model.add(Dropout(0.3))\n",
        "model.add(Dense(10,activation='softmax'))"
      ],
      "metadata": {
        "id": "fyyDFFxpuuaS"
      },
      "execution_count": 13,
      "outputs": []
    },
    {
      "cell_type": "code",
      "source": [
        "model.summary()"
      ],
      "metadata": {
        "colab": {
          "base_uri": "https://localhost:8080/"
        },
        "id": "a5T4Ylp8uudI",
        "outputId": "0a997a78-e6b9-451b-9f69-b634360da0d9"
      },
      "execution_count": 14,
      "outputs": [
        {
          "output_type": "stream",
          "name": "stdout",
          "text": [
            "Model: \"sequential_1\"\n",
            "_________________________________________________________________\n",
            " Layer (type)                Output Shape              Param #   \n",
            "=================================================================\n",
            " flatten_1 (Flatten)         (None, 784)               0         \n",
            "                                                                 \n",
            " dense_1 (Dense)             (None, 128)               100480    \n",
            "                                                                 \n",
            " dropout (Dropout)           (None, 128)               0         \n",
            "                                                                 \n",
            " dense_2 (Dense)             (None, 64)                8256      \n",
            "                                                                 \n",
            " dropout_1 (Dropout)         (None, 64)                0         \n",
            "                                                                 \n",
            " dense_3 (Dense)             (None, 10)                650       \n",
            "                                                                 \n",
            "=================================================================\n",
            "Total params: 109,386\n",
            "Trainable params: 109,386\n",
            "Non-trainable params: 0\n",
            "_________________________________________________________________\n"
          ]
        }
      ]
    },
    {
      "cell_type": "code",
      "source": [
        "model.compile(loss='sparse_categorical_crossentropy',optimizer='adam',metrics=['accuracy'])"
      ],
      "metadata": {
        "id": "xfPC-ZhFuugF"
      },
      "execution_count": 15,
      "outputs": []
    },
    {
      "cell_type": "code",
      "source": [
        "history = model.fit(X_train,y_train,epochs=100,validation_split=0.2)"
      ],
      "metadata": {
        "colab": {
          "base_uri": "https://localhost:8080/"
        },
        "id": "OfVYTJlOuujB",
        "outputId": "046c5429-1898-4575-c4d3-e9d483fc38bb"
      },
      "execution_count": 16,
      "outputs": [
        {
          "output_type": "stream",
          "name": "stdout",
          "text": [
            "Epoch 1/100\n",
            "1500/1500 [==============================] - 11s 4ms/step - loss: 1.1439 - accuracy: 0.6219 - val_loss: 0.5200 - val_accuracy: 0.8529\n",
            "Epoch 2/100\n",
            "1500/1500 [==============================] - 5s 4ms/step - loss: 0.5744 - accuracy: 0.8220 - val_loss: 0.3780 - val_accuracy: 0.8898\n",
            "Epoch 3/100\n",
            "1500/1500 [==============================] - 5s 3ms/step - loss: 0.4629 - accuracy: 0.8616 - val_loss: 0.3128 - val_accuracy: 0.9087\n",
            "Epoch 4/100\n",
            "1500/1500 [==============================] - 6s 4ms/step - loss: 0.4060 - accuracy: 0.8802 - val_loss: 0.2768 - val_accuracy: 0.9178\n",
            "Epoch 5/100\n",
            "1500/1500 [==============================] - 5s 3ms/step - loss: 0.3611 - accuracy: 0.8945 - val_loss: 0.2471 - val_accuracy: 0.9268\n",
            "Epoch 6/100\n",
            "1500/1500 [==============================] - 6s 4ms/step - loss: 0.3341 - accuracy: 0.9022 - val_loss: 0.2270 - val_accuracy: 0.9330\n",
            "Epoch 7/100\n",
            "1500/1500 [==============================] - 5s 3ms/step - loss: 0.3079 - accuracy: 0.9084 - val_loss: 0.2086 - val_accuracy: 0.9388\n",
            "Epoch 8/100\n",
            "1500/1500 [==============================] - 5s 4ms/step - loss: 0.2867 - accuracy: 0.9164 - val_loss: 0.2006 - val_accuracy: 0.9399\n",
            "Epoch 9/100\n",
            "1500/1500 [==============================] - 5s 4ms/step - loss: 0.2716 - accuracy: 0.9199 - val_loss: 0.1834 - val_accuracy: 0.9448\n",
            "Epoch 10/100\n",
            "1500/1500 [==============================] - 6s 4ms/step - loss: 0.2578 - accuracy: 0.9242 - val_loss: 0.1793 - val_accuracy: 0.9459\n",
            "Epoch 11/100\n",
            "1500/1500 [==============================] - 6s 4ms/step - loss: 0.2459 - accuracy: 0.9277 - val_loss: 0.1694 - val_accuracy: 0.9493\n",
            "Epoch 12/100\n",
            "1500/1500 [==============================] - 5s 3ms/step - loss: 0.2342 - accuracy: 0.9312 - val_loss: 0.1589 - val_accuracy: 0.9526\n",
            "Epoch 13/100\n",
            "1500/1500 [==============================] - 6s 4ms/step - loss: 0.2286 - accuracy: 0.9333 - val_loss: 0.1523 - val_accuracy: 0.9559\n",
            "Epoch 14/100\n",
            "1500/1500 [==============================] - 5s 3ms/step - loss: 0.2210 - accuracy: 0.9351 - val_loss: 0.1478 - val_accuracy: 0.9570\n",
            "Epoch 15/100\n",
            "1500/1500 [==============================] - 6s 4ms/step - loss: 0.2087 - accuracy: 0.9397 - val_loss: 0.1432 - val_accuracy: 0.9577\n",
            "Epoch 16/100\n",
            "1500/1500 [==============================] - 5s 3ms/step - loss: 0.2048 - accuracy: 0.9393 - val_loss: 0.1396 - val_accuracy: 0.9584\n",
            "Epoch 17/100\n",
            "1500/1500 [==============================] - 6s 4ms/step - loss: 0.1990 - accuracy: 0.9401 - val_loss: 0.1430 - val_accuracy: 0.9571\n",
            "Epoch 18/100\n",
            "1500/1500 [==============================] - 5s 4ms/step - loss: 0.1922 - accuracy: 0.9422 - val_loss: 0.1355 - val_accuracy: 0.9599\n",
            "Epoch 19/100\n",
            "1500/1500 [==============================] - 5s 3ms/step - loss: 0.1879 - accuracy: 0.9440 - val_loss: 0.1317 - val_accuracy: 0.9613\n",
            "Epoch 20/100\n",
            "1500/1500 [==============================] - 6s 4ms/step - loss: 0.1845 - accuracy: 0.9451 - val_loss: 0.1292 - val_accuracy: 0.9612\n",
            "Epoch 21/100\n",
            "1500/1500 [==============================] - 5s 3ms/step - loss: 0.1763 - accuracy: 0.9483 - val_loss: 0.1262 - val_accuracy: 0.9631\n",
            "Epoch 22/100\n",
            "1500/1500 [==============================] - 6s 4ms/step - loss: 0.1723 - accuracy: 0.9485 - val_loss: 0.1264 - val_accuracy: 0.9638\n",
            "Epoch 23/100\n",
            "1500/1500 [==============================] - 5s 3ms/step - loss: 0.1704 - accuracy: 0.9494 - val_loss: 0.1238 - val_accuracy: 0.9622\n",
            "Epoch 24/100\n",
            "1500/1500 [==============================] - 6s 4ms/step - loss: 0.1655 - accuracy: 0.9507 - val_loss: 0.1235 - val_accuracy: 0.9656\n",
            "Epoch 25/100\n",
            "1500/1500 [==============================] - 5s 3ms/step - loss: 0.1629 - accuracy: 0.9521 - val_loss: 0.1193 - val_accuracy: 0.9647\n",
            "Epoch 26/100\n",
            "1500/1500 [==============================] - 5s 3ms/step - loss: 0.1617 - accuracy: 0.9509 - val_loss: 0.1199 - val_accuracy: 0.9646\n",
            "Epoch 27/100\n",
            "1500/1500 [==============================] - 6s 4ms/step - loss: 0.1583 - accuracy: 0.9530 - val_loss: 0.1157 - val_accuracy: 0.9653\n",
            "Epoch 28/100\n",
            "1500/1500 [==============================] - 5s 3ms/step - loss: 0.1556 - accuracy: 0.9530 - val_loss: 0.1204 - val_accuracy: 0.9649\n",
            "Epoch 29/100\n",
            "1500/1500 [==============================] - 6s 4ms/step - loss: 0.1517 - accuracy: 0.9545 - val_loss: 0.1164 - val_accuracy: 0.9671\n",
            "Epoch 30/100\n",
            "1500/1500 [==============================] - 5s 3ms/step - loss: 0.1515 - accuracy: 0.9549 - val_loss: 0.1129 - val_accuracy: 0.9681\n",
            "Epoch 31/100\n",
            "1500/1500 [==============================] - 6s 4ms/step - loss: 0.1450 - accuracy: 0.9548 - val_loss: 0.1154 - val_accuracy: 0.9664\n",
            "Epoch 32/100\n",
            "1500/1500 [==============================] - 5s 3ms/step - loss: 0.1480 - accuracy: 0.9558 - val_loss: 0.1175 - val_accuracy: 0.9662\n",
            "Epoch 33/100\n",
            "1500/1500 [==============================] - 5s 4ms/step - loss: 0.1409 - accuracy: 0.9569 - val_loss: 0.1125 - val_accuracy: 0.9671\n",
            "Epoch 34/100\n",
            "1500/1500 [==============================] - 5s 4ms/step - loss: 0.1414 - accuracy: 0.9572 - val_loss: 0.1114 - val_accuracy: 0.9669\n",
            "Epoch 35/100\n",
            "1500/1500 [==============================] - 5s 3ms/step - loss: 0.1395 - accuracy: 0.9576 - val_loss: 0.1109 - val_accuracy: 0.9675\n",
            "Epoch 36/100\n",
            "1500/1500 [==============================] - 6s 4ms/step - loss: 0.1371 - accuracy: 0.9582 - val_loss: 0.1071 - val_accuracy: 0.9698\n",
            "Epoch 37/100\n",
            "1500/1500 [==============================] - 5s 3ms/step - loss: 0.1366 - accuracy: 0.9589 - val_loss: 0.1103 - val_accuracy: 0.9686\n",
            "Epoch 38/100\n",
            "1500/1500 [==============================] - 6s 4ms/step - loss: 0.1369 - accuracy: 0.9592 - val_loss: 0.1108 - val_accuracy: 0.9681\n",
            "Epoch 39/100\n",
            "1500/1500 [==============================] - 5s 3ms/step - loss: 0.1321 - accuracy: 0.9594 - val_loss: 0.1107 - val_accuracy: 0.9690\n",
            "Epoch 40/100\n",
            "1500/1500 [==============================] - 6s 4ms/step - loss: 0.1305 - accuracy: 0.9599 - val_loss: 0.1093 - val_accuracy: 0.9681\n",
            "Epoch 41/100\n",
            "1500/1500 [==============================] - 5s 3ms/step - loss: 0.1317 - accuracy: 0.9588 - val_loss: 0.1096 - val_accuracy: 0.9681\n",
            "Epoch 42/100\n",
            "1500/1500 [==============================] - 5s 3ms/step - loss: 0.1282 - accuracy: 0.9609 - val_loss: 0.1069 - val_accuracy: 0.9694\n",
            "Epoch 43/100\n",
            "1500/1500 [==============================] - 6s 4ms/step - loss: 0.1279 - accuracy: 0.9605 - val_loss: 0.1126 - val_accuracy: 0.9676\n",
            "Epoch 44/100\n",
            "1500/1500 [==============================] - 5s 3ms/step - loss: 0.1253 - accuracy: 0.9621 - val_loss: 0.1077 - val_accuracy: 0.9702\n",
            "Epoch 45/100\n",
            "1500/1500 [==============================] - 6s 4ms/step - loss: 0.1261 - accuracy: 0.9604 - val_loss: 0.1070 - val_accuracy: 0.9697\n",
            "Epoch 46/100\n",
            "1500/1500 [==============================] - 5s 3ms/step - loss: 0.1236 - accuracy: 0.9624 - val_loss: 0.1095 - val_accuracy: 0.9678\n",
            "Epoch 47/100\n",
            "1500/1500 [==============================] - 6s 4ms/step - loss: 0.1237 - accuracy: 0.9620 - val_loss: 0.1076 - val_accuracy: 0.9697\n",
            "Epoch 48/100\n",
            "1500/1500 [==============================] - 5s 3ms/step - loss: 0.1206 - accuracy: 0.9628 - val_loss: 0.1075 - val_accuracy: 0.9687\n",
            "Epoch 49/100\n",
            "1500/1500 [==============================] - 5s 3ms/step - loss: 0.1198 - accuracy: 0.9628 - val_loss: 0.1076 - val_accuracy: 0.9698\n",
            "Epoch 50/100\n",
            "1500/1500 [==============================] - 6s 4ms/step - loss: 0.1214 - accuracy: 0.9631 - val_loss: 0.1083 - val_accuracy: 0.9696\n",
            "Epoch 51/100\n",
            "1500/1500 [==============================] - 5s 3ms/step - loss: 0.1220 - accuracy: 0.9618 - val_loss: 0.1071 - val_accuracy: 0.9701\n",
            "Epoch 52/100\n",
            "1500/1500 [==============================] - 6s 4ms/step - loss: 0.1160 - accuracy: 0.9642 - val_loss: 0.1043 - val_accuracy: 0.9707\n",
            "Epoch 53/100\n",
            "1500/1500 [==============================] - 5s 3ms/step - loss: 0.1138 - accuracy: 0.9643 - val_loss: 0.1068 - val_accuracy: 0.9693\n",
            "Epoch 54/100\n",
            "1500/1500 [==============================] - 6s 4ms/step - loss: 0.1134 - accuracy: 0.9643 - val_loss: 0.1059 - val_accuracy: 0.9722\n",
            "Epoch 55/100\n",
            "1500/1500 [==============================] - 5s 3ms/step - loss: 0.1158 - accuracy: 0.9642 - val_loss: 0.1053 - val_accuracy: 0.9701\n",
            "Epoch 56/100\n",
            "1500/1500 [==============================] - 5s 3ms/step - loss: 0.1135 - accuracy: 0.9653 - val_loss: 0.1053 - val_accuracy: 0.9699\n",
            "Epoch 57/100\n",
            "1500/1500 [==============================] - 6s 4ms/step - loss: 0.1134 - accuracy: 0.9658 - val_loss: 0.1057 - val_accuracy: 0.9698\n",
            "Epoch 58/100\n",
            "1500/1500 [==============================] - 5s 3ms/step - loss: 0.1087 - accuracy: 0.9659 - val_loss: 0.1044 - val_accuracy: 0.9715\n",
            "Epoch 59/100\n",
            "1500/1500 [==============================] - 6s 4ms/step - loss: 0.1080 - accuracy: 0.9659 - val_loss: 0.1055 - val_accuracy: 0.9712\n",
            "Epoch 60/100\n",
            "1500/1500 [==============================] - 5s 3ms/step - loss: 0.1105 - accuracy: 0.9656 - val_loss: 0.1053 - val_accuracy: 0.9706\n",
            "Epoch 61/100\n",
            "1500/1500 [==============================] - 6s 4ms/step - loss: 0.1109 - accuracy: 0.9652 - val_loss: 0.1047 - val_accuracy: 0.9712\n",
            "Epoch 62/100\n",
            "1500/1500 [==============================] - 5s 3ms/step - loss: 0.1087 - accuracy: 0.9656 - val_loss: 0.1053 - val_accuracy: 0.9713\n",
            "Epoch 63/100\n",
            "1500/1500 [==============================] - 5s 3ms/step - loss: 0.1060 - accuracy: 0.9668 - val_loss: 0.1040 - val_accuracy: 0.9717\n",
            "Epoch 64/100\n",
            "1500/1500 [==============================] - 6s 4ms/step - loss: 0.1066 - accuracy: 0.9673 - val_loss: 0.1079 - val_accuracy: 0.9699\n",
            "Epoch 65/100\n",
            "1500/1500 [==============================] - 5s 3ms/step - loss: 0.1078 - accuracy: 0.9662 - val_loss: 0.1080 - val_accuracy: 0.9700\n",
            "Epoch 66/100\n",
            "1500/1500 [==============================] - 6s 4ms/step - loss: 0.1056 - accuracy: 0.9663 - val_loss: 0.1073 - val_accuracy: 0.9715\n",
            "Epoch 67/100\n",
            "1500/1500 [==============================] - 5s 3ms/step - loss: 0.1036 - accuracy: 0.9678 - val_loss: 0.1076 - val_accuracy: 0.9697\n",
            "Epoch 68/100\n",
            "1500/1500 [==============================] - 6s 4ms/step - loss: 0.1022 - accuracy: 0.9683 - val_loss: 0.1065 - val_accuracy: 0.9707\n",
            "Epoch 69/100\n",
            "1500/1500 [==============================] - 5s 3ms/step - loss: 0.1034 - accuracy: 0.9680 - val_loss: 0.1038 - val_accuracy: 0.9712\n",
            "Epoch 70/100\n",
            "1500/1500 [==============================] - 5s 3ms/step - loss: 0.1007 - accuracy: 0.9677 - val_loss: 0.1097 - val_accuracy: 0.9720\n",
            "Epoch 71/100\n",
            "1500/1500 [==============================] - 6s 4ms/step - loss: 0.1013 - accuracy: 0.9689 - val_loss: 0.1102 - val_accuracy: 0.9710\n",
            "Epoch 72/100\n",
            "1500/1500 [==============================] - 6s 4ms/step - loss: 0.1040 - accuracy: 0.9680 - val_loss: 0.1053 - val_accuracy: 0.9707\n",
            "Epoch 73/100\n",
            "1500/1500 [==============================] - 6s 4ms/step - loss: 0.0974 - accuracy: 0.9692 - val_loss: 0.1094 - val_accuracy: 0.9707\n",
            "Epoch 74/100\n",
            "1500/1500 [==============================] - 5s 3ms/step - loss: 0.1025 - accuracy: 0.9672 - val_loss: 0.1109 - val_accuracy: 0.9712\n",
            "Epoch 75/100\n",
            "1500/1500 [==============================] - 6s 4ms/step - loss: 0.0997 - accuracy: 0.9687 - val_loss: 0.1041 - val_accuracy: 0.9733\n",
            "Epoch 76/100\n",
            "1500/1500 [==============================] - 5s 3ms/step - loss: 0.0972 - accuracy: 0.9690 - val_loss: 0.1057 - val_accuracy: 0.9718\n",
            "Epoch 77/100\n",
            "1500/1500 [==============================] - 5s 4ms/step - loss: 0.0970 - accuracy: 0.9703 - val_loss: 0.1083 - val_accuracy: 0.9700\n",
            "Epoch 78/100\n",
            "1500/1500 [==============================] - 5s 4ms/step - loss: 0.0970 - accuracy: 0.9697 - val_loss: 0.1042 - val_accuracy: 0.9718\n",
            "Epoch 79/100\n",
            "1500/1500 [==============================] - 5s 3ms/step - loss: 0.0968 - accuracy: 0.9702 - val_loss: 0.1099 - val_accuracy: 0.9709\n",
            "Epoch 80/100\n",
            "1500/1500 [==============================] - 6s 4ms/step - loss: 0.0972 - accuracy: 0.9695 - val_loss: 0.1048 - val_accuracy: 0.9717\n",
            "Epoch 81/100\n",
            "1500/1500 [==============================] - 5s 3ms/step - loss: 0.0952 - accuracy: 0.9697 - val_loss: 0.1037 - val_accuracy: 0.9720\n",
            "Epoch 82/100\n",
            "1500/1500 [==============================] - 6s 4ms/step - loss: 0.0971 - accuracy: 0.9697 - val_loss: 0.1029 - val_accuracy: 0.9722\n",
            "Epoch 83/100\n",
            "1500/1500 [==============================] - 6s 4ms/step - loss: 0.0953 - accuracy: 0.9692 - val_loss: 0.1065 - val_accuracy: 0.9707\n",
            "Epoch 84/100\n",
            "1500/1500 [==============================] - 6s 4ms/step - loss: 0.0961 - accuracy: 0.9689 - val_loss: 0.1067 - val_accuracy: 0.9725\n",
            "Epoch 85/100\n",
            "1500/1500 [==============================] - 5s 3ms/step - loss: 0.0952 - accuracy: 0.9694 - val_loss: 0.1079 - val_accuracy: 0.9716\n",
            "Epoch 86/100\n",
            "1500/1500 [==============================] - 5s 4ms/step - loss: 0.0915 - accuracy: 0.9696 - val_loss: 0.1074 - val_accuracy: 0.9718\n",
            "Epoch 87/100\n",
            "1500/1500 [==============================] - 5s 3ms/step - loss: 0.0908 - accuracy: 0.9715 - val_loss: 0.1057 - val_accuracy: 0.9712\n",
            "Epoch 88/100\n",
            "1500/1500 [==============================] - 5s 3ms/step - loss: 0.0928 - accuracy: 0.9701 - val_loss: 0.1065 - val_accuracy: 0.9727\n",
            "Epoch 89/100\n",
            "1500/1500 [==============================] - 6s 4ms/step - loss: 0.0950 - accuracy: 0.9697 - val_loss: 0.1042 - val_accuracy: 0.9736\n",
            "Epoch 90/100\n",
            "1500/1500 [==============================] - 5s 3ms/step - loss: 0.0904 - accuracy: 0.9714 - val_loss: 0.1075 - val_accuracy: 0.9719\n",
            "Epoch 91/100\n",
            "1500/1500 [==============================] - 6s 4ms/step - loss: 0.0924 - accuracy: 0.9707 - val_loss: 0.1081 - val_accuracy: 0.9717\n",
            "Epoch 92/100\n",
            "1500/1500 [==============================] - 6s 4ms/step - loss: 0.0893 - accuracy: 0.9716 - val_loss: 0.1047 - val_accuracy: 0.9718\n",
            "Epoch 93/100\n",
            "1500/1500 [==============================] - 6s 4ms/step - loss: 0.0896 - accuracy: 0.9709 - val_loss: 0.1072 - val_accuracy: 0.9718\n",
            "Epoch 94/100\n",
            "1500/1500 [==============================] - 5s 3ms/step - loss: 0.0897 - accuracy: 0.9710 - val_loss: 0.1054 - val_accuracy: 0.9731\n",
            "Epoch 95/100\n",
            "1500/1500 [==============================] - 5s 3ms/step - loss: 0.0884 - accuracy: 0.9718 - val_loss: 0.1084 - val_accuracy: 0.9719\n",
            "Epoch 96/100\n",
            "1500/1500 [==============================] - 5s 4ms/step - loss: 0.0866 - accuracy: 0.9727 - val_loss: 0.1072 - val_accuracy: 0.9715\n",
            "Epoch 97/100\n",
            "1500/1500 [==============================] - 5s 3ms/step - loss: 0.0895 - accuracy: 0.9720 - val_loss: 0.1055 - val_accuracy: 0.9719\n",
            "Epoch 98/100\n",
            "1500/1500 [==============================] - 6s 4ms/step - loss: 0.0861 - accuracy: 0.9716 - val_loss: 0.1117 - val_accuracy: 0.9722\n",
            "Epoch 99/100\n",
            "1500/1500 [==============================] - 5s 3ms/step - loss: 0.0874 - accuracy: 0.9725 - val_loss: 0.1097 - val_accuracy: 0.9728\n",
            "Epoch 100/100\n",
            "1500/1500 [==============================] - 6s 4ms/step - loss: 0.0881 - accuracy: 0.9720 - val_loss: 0.1096 - val_accuracy: 0.9715\n"
          ]
        }
      ]
    },
    {
      "cell_type": "code",
      "source": [
        "model.evaluate(X_test, y_test)\n"
      ],
      "metadata": {
        "colab": {
          "base_uri": "https://localhost:8080/"
        },
        "id": "CJHjol6huulv",
        "outputId": "d602cb69-4976-4dcf-b845-d499ac80cf84"
      },
      "execution_count": 17,
      "outputs": [
        {
          "output_type": "stream",
          "name": "stdout",
          "text": [
            "313/313 [==============================] - 1s 2ms/step - loss: 0.1014 - accuracy: 0.9735\n"
          ]
        },
        {
          "output_type": "execute_result",
          "data": {
            "text/plain": [
              "[0.10144731402397156, 0.9735000133514404]"
            ]
          },
          "metadata": {},
          "execution_count": 17
        }
      ]
    },
    {
      "cell_type": "code",
      "source": [
        "y_prob = model.predict(X_test)"
      ],
      "metadata": {
        "colab": {
          "base_uri": "https://localhost:8080/"
        },
        "id": "30Cjbxo4xyye",
        "outputId": "c2237026-b04c-4246-8f77-6481becb52b0"
      },
      "execution_count": 18,
      "outputs": [
        {
          "output_type": "stream",
          "name": "stdout",
          "text": [
            "313/313 [==============================] - 1s 2ms/step\n"
          ]
        }
      ]
    },
    {
      "cell_type": "code",
      "source": [
        "y_pred = y_prob.argmax(axis=1)"
      ],
      "metadata": {
        "id": "QZ7FZOQxxy2T"
      },
      "execution_count": 19,
      "outputs": []
    },
    {
      "cell_type": "code",
      "source": [
        "from sklearn.metrics import accuracy_score\n",
        "accuracy_score(y_test,y_pred)"
      ],
      "metadata": {
        "colab": {
          "base_uri": "https://localhost:8080/"
        },
        "id": "zCd4I2J3uuoj",
        "outputId": "ba9a5b42-e201-455c-a45b-58f67d7375be"
      },
      "execution_count": 20,
      "outputs": [
        {
          "output_type": "execute_result",
          "data": {
            "text/plain": [
              "0.9735"
            ]
          },
          "metadata": {},
          "execution_count": 20
        }
      ]
    },
    {
      "cell_type": "code",
      "source": [
        "plt.plot(history.history['loss'],color='red',label='train')\n",
        "plt.plot(history.history['val_loss'],color='blue',label='validation')\n",
        "plt.legend()\n",
        "plt.show()"
      ],
      "metadata": {
        "colab": {
          "base_uri": "https://localhost:8080/",
          "height": 430
        },
        "id": "0omvQ44msKR8",
        "outputId": "06e457ca-d799-46ab-e16c-0da5bf687806"
      },
      "execution_count": 26,
      "outputs": [
        {
          "output_type": "display_data",
          "data": {
            "text/plain": [
              "<Figure size 640x480 with 1 Axes>"
            ],
            "image/png": "[encoded data removed]"
          },
          "metadata": {}
        }
      ]
    },
    {
      "cell_type": "code",
      "source": [
        "plt.plot(history.history['accuracy'],color='red',label='train')\n",
        "plt.plot(history.history['val_accuracy'],color='blue',label='validation')\n",
        "plt.legend()\n",
        "plt.show()"
      ],
      "metadata": {
        "colab": {
          "base_uri": "https://localhost:8080/",
          "height": 430
        },
        "id": "sNQ7x4JFr9yw",
        "outputId": "6bab5a73-efa9-4647-8611-7a41f313aff4"
      },
      "execution_count": 25,
      "outputs": [
        {
          "output_type": "display_data",
          "data": {
            "text/plain": [
              "<Figure size 640x480 with 1 Axes>"
            ],
            "image/png": "[encoded data removed]"
          },
          "metadata": {}
        }
      ]
    },
    {
      "cell_type": "code",
      "source": [
        "plt.imshow(X_test[1])"
      ],
      "metadata": {
        "colab": {
          "base_uri": "https://localhost:8080/",
          "height": 447
        },
        "id": "OZwdotj3x-2v",
        "outputId": "c5055399-110d-4176-f9d9-9d72f5fe70c5"
      },
      "execution_count": 23,
      "outputs": [
        {
          "output_type": "execute_result",
          "data": {
            "text/plain": [
              "<matplotlib.image.AxesImage at 0x7fc8141f4ee0>"
            ]
          },
          "metadata": {},
          "execution_count": 23
        },
        {
          "output_type": "display_data",
          "data": {
            "text/plain": [
              "<Figure size 640x480 with 1 Axes>"
            ],
            "image/png": "[encoded data removed]"
          },
          "metadata": {}
        }
      ]
    },
    {
      "cell_type": "code",
      "source": [
        "model.predict(X_test[1].reshape(1,28,28)).argmax(axis=1)"
      ],
      "metadata": {
        "colab": {
          "base_uri": "https://localhost:8080/"
        },
        "id": "S4N7xhX_yGZ7",
        "outputId": "5934b52c-4a97-4cd5-bb7e-aa6854519718"
      },
      "execution_count": 24,
      "outputs": [
        {
          "output_type": "stream",
          "name": "stdout",
          "text": [
            "1/1 [==============================] - 0s 23ms/step\n"
          ]
        },
        {
          "output_type": "execute_result",
          "data": {
            "text/plain": [
              "array([2])"
            ]
          },
          "metadata": {},
          "execution_count": 24
        }
      ]
    }
  ]
}